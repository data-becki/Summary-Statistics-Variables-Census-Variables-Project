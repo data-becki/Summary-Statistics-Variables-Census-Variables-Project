{
 "cells": [
  {
   "cell_type": "markdown",
   "id": "7e9c4414",
   "metadata": {},
   "source": [
    "# Census Variables"
   ]
  },
  {
   "cell_type": "markdown",
   "id": "5e23f12e",
   "metadata": {},
   "source": [
    "You have decided to volunteer for your local community by offering to clean their recently collected census data. The description of this dataset is as follows:\n",
    "\n",
    "|column        |description       |\n",
    "|:-------------|:-----------------|\n",
    "|first_name    |The respondent’s first name.|\n",
    "|last_name     |The respondent’s last name.|\n",
    "|birth_year    |The respondent’s year of birth.|\n",
    "|voted \t       |If the respondent participated in the current voting cycle.|\n",
    "|num_children  |The number of children the respondent has.|\n",
    "|income_year   |The average yearly income the respondent earns.|\n",
    "|higher_tax    |The respondent’s answer to the question: “Rate your agreement with the statement: the wealthy should pay higher taxes.”|\n",
    "|marital_status|The respondent’s current marital status.|"
   ]
  },
  {
   "cell_type": "markdown",
   "id": "7599ed3d",
   "metadata": {},
   "source": [
    "## Assessing Variable Types"
   ]
  },
  {
   "cell_type": "code",
   "execution_count": 1,
   "id": "53eba89c",
   "metadata": {},
   "outputs": [],
   "source": [
    "# Import pandas with alias\n",
    "import pandas as pd\n",
    "\n",
    "# Read in the census dataframe\n",
    "census = pd.read_csv('census_data.csv', index_col=0)"
   ]
  },
  {
   "cell_type": "markdown",
   "id": "290f3056",
   "metadata": {},
   "source": [
    "1. The census dataframe is composed of simulated census data to represent demographics of a small community in the U.S. Call the `.head()` method on the census dataframe and print the output to view the first five rows."
   ]
  },
  {
   "cell_type": "code",
   "execution_count": 2,
   "id": "c15a8147",
   "metadata": {},
   "outputs": [
    {
     "data": {
      "text/html": [
       "<div>\n",
       "<style scoped>\n",
       "    .dataframe tbody tr th:only-of-type {\n",
       "        vertical-align: middle;\n",
       "    }\n",
       "\n",
       "    .dataframe tbody tr th {\n",
       "        vertical-align: top;\n",
       "    }\n",
       "\n",
       "    .dataframe thead th {\n",
       "        text-align: right;\n",
       "    }\n",
       "</style>\n",
       "<table border=\"1\" class=\"dataframe\">\n",
       "  <thead>\n",
       "    <tr style=\"text-align: right;\">\n",
       "      <th></th>\n",
       "      <th>first_name</th>\n",
       "      <th>last_name</th>\n",
       "      <th>birth_year</th>\n",
       "      <th>voted</th>\n",
       "      <th>num_children</th>\n",
       "      <th>income_year</th>\n",
       "      <th>higher_tax</th>\n",
       "      <th>marital_status</th>\n",
       "    </tr>\n",
       "  </thead>\n",
       "  <tbody>\n",
       "    <tr>\n",
       "      <th>0</th>\n",
       "      <td>Denise</td>\n",
       "      <td>Ratke</td>\n",
       "      <td>2005</td>\n",
       "      <td>False</td>\n",
       "      <td>0</td>\n",
       "      <td>92129.41</td>\n",
       "      <td>disagree</td>\n",
       "      <td>single</td>\n",
       "    </tr>\n",
       "    <tr>\n",
       "      <th>1</th>\n",
       "      <td>Hali</td>\n",
       "      <td>Cummerata</td>\n",
       "      <td>1987</td>\n",
       "      <td>False</td>\n",
       "      <td>0</td>\n",
       "      <td>75649.17</td>\n",
       "      <td>neutral</td>\n",
       "      <td>divorced</td>\n",
       "    </tr>\n",
       "    <tr>\n",
       "      <th>2</th>\n",
       "      <td>Salomon</td>\n",
       "      <td>Orn</td>\n",
       "      <td>1992</td>\n",
       "      <td>True</td>\n",
       "      <td>2</td>\n",
       "      <td>166313.45</td>\n",
       "      <td>agree</td>\n",
       "      <td>single</td>\n",
       "    </tr>\n",
       "    <tr>\n",
       "      <th>3</th>\n",
       "      <td>Sarina</td>\n",
       "      <td>Schiller</td>\n",
       "      <td>1965</td>\n",
       "      <td>False</td>\n",
       "      <td>2</td>\n",
       "      <td>71704.81</td>\n",
       "      <td>strongly agree</td>\n",
       "      <td>married</td>\n",
       "    </tr>\n",
       "    <tr>\n",
       "      <th>4</th>\n",
       "      <td>Gust</td>\n",
       "      <td>Abernathy</td>\n",
       "      <td>1945</td>\n",
       "      <td>False</td>\n",
       "      <td>2</td>\n",
       "      <td>143316.08</td>\n",
       "      <td>agree</td>\n",
       "      <td>married</td>\n",
       "    </tr>\n",
       "  </tbody>\n",
       "</table>\n",
       "</div>"
      ],
      "text/plain": [
       "  first_name  last_name birth_year  voted  num_children  income_year  \\\n",
       "0     Denise      Ratke       2005  False             0     92129.41   \n",
       "1       Hali  Cummerata       1987  False             0     75649.17   \n",
       "2    Salomon        Orn       1992   True             2    166313.45   \n",
       "3     Sarina   Schiller       1965  False             2     71704.81   \n",
       "4       Gust  Abernathy       1945  False             2    143316.08   \n",
       "\n",
       "       higher_tax marital_status  \n",
       "0        disagree         single  \n",
       "1         neutral       divorced  \n",
       "2           agree         single  \n",
       "3  strongly agree        married  \n",
       "4           agree        married  "
      ]
     },
     "execution_count": 2,
     "metadata": {},
     "output_type": "execute_result"
    }
   ],
   "source": [
    "census.head()"
   ]
  },
  {
   "cell_type": "markdown",
   "id": "e194c7db",
   "metadata": {},
   "source": [
    "2. Review the dataframe description and values returned by `.head()` to assess the variable types of each of the variables. This is an important step to understand what preprocessing will be necessary to work with the data."
   ]
  },
  {
   "cell_type": "markdown",
   "id": "5a5a7f96",
   "metadata": {},
   "source": [
    "|column \t    |variable type | expected data type |\n",
    "|---------------|:-------------|:-------------------|\n",
    "|first_name \t|categorical nominal |object |\n",
    "|last_name \t    |categorical nominal |object |\n",
    "|birth_year \t|numeric quantitative nominal discrete / numeric discrete - can be changed to categorical ordinal year ranges      |int |\n",
    "|voted \t        |categorical binary  |bool |\n",
    "|num_children \t|numeric quantitative discrete |int |\n",
    "|income_year \t|numeric quantitative continuous |float |\n",
    "|higher_tax \t|categorical ordinal |object |\n",
    "|marital_status |categorical nominal |object |"
   ]
  },
  {
   "cell_type": "markdown",
   "id": "7eb80f96",
   "metadata": {},
   "source": [
    "3. Compare the values returned from the `.head()` method with the data types of each variable by calling `.dtypes` on the census dataframe and print the result."
   ]
  },
  {
   "cell_type": "code",
   "execution_count": 3,
   "id": "1c636042",
   "metadata": {},
   "outputs": [
    {
     "data": {
      "text/plain": [
       "first_name         object\n",
       "last_name          object\n",
       "birth_year         object\n",
       "voted                bool\n",
       "num_children        int64\n",
       "income_year       float64\n",
       "higher_tax         object\n",
       "marital_status     object\n",
       "dtype: object"
      ]
     },
     "execution_count": 3,
     "metadata": {},
     "output_type": "execute_result"
    }
   ],
   "source": [
    "census.dtypes"
   ]
  },
  {
   "cell_type": "markdown",
   "id": "a71646d0",
   "metadata": {},
   "source": [
    "## Inspecting Datatypes"
   ]
  },
  {
   "cell_type": "markdown",
   "id": "926ecdf2",
   "metadata": {},
   "source": [
    "4. The manager of the census would like to know the average birth year of the respondents. We were able to see from `.dtypes` that `birth_year` has been assigned the `str` datatype whereas it should be expressed in `int`.\n",
    "\n",
    "    Print the unique values of the variable using the `.unique()` method."
   ]
  },
  {
   "cell_type": "code",
   "execution_count": 4,
   "id": "adb09e6b",
   "metadata": {},
   "outputs": [
    {
     "data": {
      "text/plain": [
       "array(['2005', '1987', '1992', '1965', '1945', '1951', '1963', '1949',\n",
       "       '1950', '1971', '2007', '1944', '1995', '1973', '1946', '1954',\n",
       "       '1994', '1989', '1947', '1993', '1976', '1984', 'missing', '1966',\n",
       "       '1941', '2000', '1953', '1956', '1960', '2001', '1980', '1955',\n",
       "       '1985', '1996', '1968', '1979', '2006', '1962', '1981', '1959',\n",
       "       '1977', '1978', '1983', '1957', '1961', '1982', '2002', '1998',\n",
       "       '1999', '1952', '1940', '1986', '1958'], dtype=object)"
      ]
     },
     "execution_count": 4,
     "metadata": {},
     "output_type": "execute_result"
    }
   ],
   "source": [
    "# expect birth_year to be int, but is object\n",
    "census['birth_year'].unique()"
   ]
  },
  {
   "cell_type": "markdown",
   "id": "2368ac06",
   "metadata": {},
   "source": [
    "## Altering Data"
   ]
  },
  {
   "cell_type": "markdown",
   "id": "6bda9b32",
   "metadata": {},
   "source": [
    "5. There appears to be a missing value in the `birth_year` column. With some research you find that the respondent’s birth year is 1967.\n",
    "\n",
    "    Use the `.replace()` method to replace the missing value with `1967`, so that the data type can be changed to `int`. Then recheck the values in `birth_year` by calling the `.unique()` method and printing the results. "
   ]
  },
  {
   "cell_type": "code",
   "execution_count": 5,
   "id": "0b224cf8",
   "metadata": {},
   "outputs": [
    {
     "data": {
      "text/plain": [
       "array(['2005', '1987', '1992', '1965', '1945', '1951', '1963', '1949',\n",
       "       '1950', '1971', '2007', '1944', '1995', '1973', '1946', '1954',\n",
       "       '1994', '1989', '1947', '1993', '1976', '1984', 1967, '1966',\n",
       "       '1941', '2000', '1953', '1956', '1960', '2001', '1980', '1955',\n",
       "       '1985', '1996', '1968', '1979', '2006', '1962', '1981', '1959',\n",
       "       '1977', '1978', '1983', '1957', '1961', '1982', '2002', '1998',\n",
       "       '1999', '1952', '1940', '1986', '1958'], dtype=object)"
      ]
     },
     "execution_count": 5,
     "metadata": {},
     "output_type": "execute_result"
    }
   ],
   "source": [
    "census['birth_year'] = census['birth_year'].replace(['missing'], 1967)\n",
    "census['birth_year'].unique()"
   ]
  },
  {
   "cell_type": "markdown",
   "id": "74bb12b4",
   "metadata": {},
   "source": [
    "6. Now that we have adjusted the values in the `birth_year` variable, change the datatype from `str` to `int` and print the datatypes of the census dataframe with `.dtypes`."
   ]
  },
  {
   "cell_type": "code",
   "execution_count": 6,
   "id": "0aa37c4b",
   "metadata": {},
   "outputs": [
    {
     "data": {
      "text/plain": [
       "first_name         object\n",
       "last_name          object\n",
       "birth_year          int32\n",
       "voted                bool\n",
       "num_children        int64\n",
       "income_year       float64\n",
       "higher_tax         object\n",
       "marital_status     object\n",
       "dtype: object"
      ]
     },
     "execution_count": 6,
     "metadata": {},
     "output_type": "execute_result"
    }
   ],
   "source": [
    "census['birth_year'] = census['birth_year'].astype(int)\n",
    "census.dtypes"
   ]
  },
  {
   "cell_type": "markdown",
   "id": "bc88a41c",
   "metadata": {},
   "source": [
    "7. Having assigned `birth_year` to the appropriate data type, print the average birth year of the respondents to the census using the pandas `.mean()` method."
   ]
  },
  {
   "cell_type": "code",
   "execution_count": 7,
   "id": "bb7f07d1",
   "metadata": {},
   "outputs": [
    {
     "data": {
      "text/plain": [
       "1973.4"
      ]
     },
     "execution_count": 7,
     "metadata": {},
     "output_type": "execute_result"
    }
   ],
   "source": [
    "census['birth_year'].mean()"
   ]
  },
  {
   "cell_type": "markdown",
   "id": "1246b80d",
   "metadata": {},
   "source": [
    "8. Your manager would like to set an order to the `higher_tax` variable so that: `strongly disagree < disagree < neutral < agree < strongly agree`.\n",
    "\n",
    "    Convert the `higher_tax` variable to the category data type with the appropriate order, then print the new order using the `.unique()` method."
   ]
  },
  {
   "cell_type": "code",
   "execution_count": 8,
   "id": "bc3ab080",
   "metadata": {},
   "outputs": [
    {
     "data": {
      "text/plain": [
       "['disagree', 'neutral', 'agree', 'strongly agree', 'strongly disagree']\n",
       "Categories (5, object): ['strongly disagree' < 'disagree' < 'neutral' < 'agree' < 'strongly agree']"
      ]
     },
     "execution_count": 8,
     "metadata": {},
     "output_type": "execute_result"
    }
   ],
   "source": [
    "census['higher_tax'] = pd.Categorical(census['higher_tax'], ['strongly disagree', 'disagree', 'neutral', 'agree', 'strongly agree'], ordered = True)\n",
    "census['higher_tax'].unique()"
   ]
  },
  {
   "cell_type": "markdown",
   "id": "b20d2773",
   "metadata": {},
   "source": [
    "9. Your manager would also like to know the median sentiment of the respondents on the issue of higher taxes for the wealthy. Label encode the `higher_tax` variable and print the median using the pandas `.median()` method."
   ]
  },
  {
   "cell_type": "code",
   "execution_count": 9,
   "id": "a5b840f0",
   "metadata": {
    "scrolled": true
   },
   "outputs": [
    {
     "data": {
      "text/html": [
       "<div>\n",
       "<style scoped>\n",
       "    .dataframe tbody tr th:only-of-type {\n",
       "        vertical-align: middle;\n",
       "    }\n",
       "\n",
       "    .dataframe tbody tr th {\n",
       "        vertical-align: top;\n",
       "    }\n",
       "\n",
       "    .dataframe thead th {\n",
       "        text-align: right;\n",
       "    }\n",
       "</style>\n",
       "<table border=\"1\" class=\"dataframe\">\n",
       "  <thead>\n",
       "    <tr style=\"text-align: right;\">\n",
       "      <th></th>\n",
       "      <th>first_name</th>\n",
       "      <th>last_name</th>\n",
       "      <th>birth_year</th>\n",
       "      <th>voted</th>\n",
       "      <th>num_children</th>\n",
       "      <th>income_year</th>\n",
       "      <th>higher_tax</th>\n",
       "      <th>marital_status</th>\n",
       "    </tr>\n",
       "  </thead>\n",
       "  <tbody>\n",
       "    <tr>\n",
       "      <th>0</th>\n",
       "      <td>Denise</td>\n",
       "      <td>Ratke</td>\n",
       "      <td>2005</td>\n",
       "      <td>False</td>\n",
       "      <td>0</td>\n",
       "      <td>92129.41</td>\n",
       "      <td>1</td>\n",
       "      <td>single</td>\n",
       "    </tr>\n",
       "    <tr>\n",
       "      <th>1</th>\n",
       "      <td>Hali</td>\n",
       "      <td>Cummerata</td>\n",
       "      <td>1987</td>\n",
       "      <td>False</td>\n",
       "      <td>0</td>\n",
       "      <td>75649.17</td>\n",
       "      <td>2</td>\n",
       "      <td>divorced</td>\n",
       "    </tr>\n",
       "    <tr>\n",
       "      <th>2</th>\n",
       "      <td>Salomon</td>\n",
       "      <td>Orn</td>\n",
       "      <td>1992</td>\n",
       "      <td>True</td>\n",
       "      <td>2</td>\n",
       "      <td>166313.45</td>\n",
       "      <td>3</td>\n",
       "      <td>single</td>\n",
       "    </tr>\n",
       "    <tr>\n",
       "      <th>3</th>\n",
       "      <td>Sarina</td>\n",
       "      <td>Schiller</td>\n",
       "      <td>1965</td>\n",
       "      <td>False</td>\n",
       "      <td>2</td>\n",
       "      <td>71704.81</td>\n",
       "      <td>4</td>\n",
       "      <td>married</td>\n",
       "    </tr>\n",
       "    <tr>\n",
       "      <th>4</th>\n",
       "      <td>Gust</td>\n",
       "      <td>Abernathy</td>\n",
       "      <td>1945</td>\n",
       "      <td>False</td>\n",
       "      <td>2</td>\n",
       "      <td>143316.08</td>\n",
       "      <td>3</td>\n",
       "      <td>married</td>\n",
       "    </tr>\n",
       "  </tbody>\n",
       "</table>\n",
       "</div>"
      ],
      "text/plain": [
       "  first_name  last_name  birth_year  voted  num_children  income_year  \\\n",
       "0     Denise      Ratke        2005  False             0     92129.41   \n",
       "1       Hali  Cummerata        1987  False             0     75649.17   \n",
       "2    Salomon        Orn        1992   True             2    166313.45   \n",
       "3     Sarina   Schiller        1965  False             2     71704.81   \n",
       "4       Gust  Abernathy        1945  False             2    143316.08   \n",
       "\n",
       "   higher_tax marital_status  \n",
       "0           1         single  \n",
       "1           2       divorced  \n",
       "2           3         single  \n",
       "3           4        married  \n",
       "4           3        married  "
      ]
     },
     "execution_count": 9,
     "metadata": {},
     "output_type": "execute_result"
    }
   ],
   "source": [
    "census['higher_tax'] = census['higher_tax'].cat.codes\n",
    "# check to see it worked\n",
    "census.head()"
   ]
  },
  {
   "cell_type": "code",
   "execution_count": 10,
   "id": "9fde2957",
   "metadata": {},
   "outputs": [
    {
     "data": {
      "text/plain": [
       "2.0"
      ]
     },
     "execution_count": 10,
     "metadata": {},
     "output_type": "execute_result"
    }
   ],
   "source": [
    "census['higher_tax'].median()"
   ]
  },
  {
   "cell_type": "markdown",
   "id": "6c10790d",
   "metadata": {},
   "source": [
    "10. Your manager is interested in using machine learning models on the census data in the future. To help, let’s One-Hot Encode `marital_status` to create binary variables of each category. Use the pandas `get_dummies()` method to One-Hot Encode the `marital_status` variable.\n",
    "\n",
    "    Print the first five rows of the new dataframe with the `.head()` method. Note that you’ll have to scroll to the right or expand the web-browser to see the dummy variables."
   ]
  },
  {
   "cell_type": "code",
   "execution_count": 11,
   "id": "bec8651b",
   "metadata": {},
   "outputs": [
    {
     "data": {
      "text/html": [
       "<div>\n",
       "<style scoped>\n",
       "    .dataframe tbody tr th:only-of-type {\n",
       "        vertical-align: middle;\n",
       "    }\n",
       "\n",
       "    .dataframe tbody tr th {\n",
       "        vertical-align: top;\n",
       "    }\n",
       "\n",
       "    .dataframe thead th {\n",
       "        text-align: right;\n",
       "    }\n",
       "</style>\n",
       "<table border=\"1\" class=\"dataframe\">\n",
       "  <thead>\n",
       "    <tr style=\"text-align: right;\">\n",
       "      <th></th>\n",
       "      <th>first_name</th>\n",
       "      <th>last_name</th>\n",
       "      <th>birth_year</th>\n",
       "      <th>voted</th>\n",
       "      <th>num_children</th>\n",
       "      <th>income_year</th>\n",
       "      <th>higher_tax</th>\n",
       "      <th>marital_status_divorced</th>\n",
       "      <th>marital_status_married</th>\n",
       "      <th>marital_status_single</th>\n",
       "      <th>marital_status_widowed</th>\n",
       "    </tr>\n",
       "  </thead>\n",
       "  <tbody>\n",
       "    <tr>\n",
       "      <th>0</th>\n",
       "      <td>Denise</td>\n",
       "      <td>Ratke</td>\n",
       "      <td>2005</td>\n",
       "      <td>False</td>\n",
       "      <td>0</td>\n",
       "      <td>92129.41</td>\n",
       "      <td>1</td>\n",
       "      <td>0</td>\n",
       "      <td>0</td>\n",
       "      <td>1</td>\n",
       "      <td>0</td>\n",
       "    </tr>\n",
       "    <tr>\n",
       "      <th>1</th>\n",
       "      <td>Hali</td>\n",
       "      <td>Cummerata</td>\n",
       "      <td>1987</td>\n",
       "      <td>False</td>\n",
       "      <td>0</td>\n",
       "      <td>75649.17</td>\n",
       "      <td>2</td>\n",
       "      <td>1</td>\n",
       "      <td>0</td>\n",
       "      <td>0</td>\n",
       "      <td>0</td>\n",
       "    </tr>\n",
       "    <tr>\n",
       "      <th>2</th>\n",
       "      <td>Salomon</td>\n",
       "      <td>Orn</td>\n",
       "      <td>1992</td>\n",
       "      <td>True</td>\n",
       "      <td>2</td>\n",
       "      <td>166313.45</td>\n",
       "      <td>3</td>\n",
       "      <td>0</td>\n",
       "      <td>0</td>\n",
       "      <td>1</td>\n",
       "      <td>0</td>\n",
       "    </tr>\n",
       "    <tr>\n",
       "      <th>3</th>\n",
       "      <td>Sarina</td>\n",
       "      <td>Schiller</td>\n",
       "      <td>1965</td>\n",
       "      <td>False</td>\n",
       "      <td>2</td>\n",
       "      <td>71704.81</td>\n",
       "      <td>4</td>\n",
       "      <td>0</td>\n",
       "      <td>1</td>\n",
       "      <td>0</td>\n",
       "      <td>0</td>\n",
       "    </tr>\n",
       "    <tr>\n",
       "      <th>4</th>\n",
       "      <td>Gust</td>\n",
       "      <td>Abernathy</td>\n",
       "      <td>1945</td>\n",
       "      <td>False</td>\n",
       "      <td>2</td>\n",
       "      <td>143316.08</td>\n",
       "      <td>3</td>\n",
       "      <td>0</td>\n",
       "      <td>1</td>\n",
       "      <td>0</td>\n",
       "      <td>0</td>\n",
       "    </tr>\n",
       "  </tbody>\n",
       "</table>\n",
       "</div>"
      ],
      "text/plain": [
       "  first_name  last_name  birth_year  voted  num_children  income_year  \\\n",
       "0     Denise      Ratke        2005  False             0     92129.41   \n",
       "1       Hali  Cummerata        1987  False             0     75649.17   \n",
       "2    Salomon        Orn        1992   True             2    166313.45   \n",
       "3     Sarina   Schiller        1965  False             2     71704.81   \n",
       "4       Gust  Abernathy        1945  False             2    143316.08   \n",
       "\n",
       "   higher_tax  marital_status_divorced  marital_status_married  \\\n",
       "0           1                        0                       0   \n",
       "1           2                        1                       0   \n",
       "2           3                        0                       0   \n",
       "3           4                        0                       1   \n",
       "4           3                        0                       1   \n",
       "\n",
       "   marital_status_single  marital_status_widowed  \n",
       "0                      1                       0  \n",
       "1                      0                       0  \n",
       "2                      1                       0  \n",
       "3                      0                       0  \n",
       "4                      0                       0  "
      ]
     },
     "execution_count": 11,
     "metadata": {},
     "output_type": "execute_result"
    }
   ],
   "source": [
    "census = pd.get_dummies(data = census, columns=['marital_status'])\n",
    "census.head()"
   ]
  },
  {
   "cell_type": "markdown",
   "id": "871df316",
   "metadata": {},
   "source": [
    "11. Congratulations! You have used your variable skills to help the census team with managing their data. Feel free to explore the data further. There are additional operations you can perform on the data, such as:\n",
    "\n",
    "    - Create a new variable called `marital_codes` by Label Encoding the `marital_status` variable. This could help the Census team use machine learning to predict if a respondent thinks the wealthy should pay higher taxes based on their marital status.\n",
    "\n",
    "    - Create a new variable called `age_group`, which groups respondents based on their birth year. The groups should be in five-year increments, e.g., 25-30, 31-35, etc. Then label encode the `age_group` variable to assist the Census team in the event they would like to use machine learning to predict if a respondent thinks the wealthy should pay higher taxes based on their age group."
   ]
  },
  {
   "cell_type": "code",
   "execution_count": 12,
   "id": "4855db41",
   "metadata": {},
   "outputs": [],
   "source": [
    "# convert birth_year to age groups\n",
    "import numpy as np \n",
    "census['age'] = 2022 - census.birth_year \n",
    "age_range = np.arange(min(census.age)-5, 100, 5) # what is the logic of this?\n",
    "census['age_group'] = pd.cut(census.age, bins=age_range)"
   ]
  },
  {
   "cell_type": "code",
   "execution_count": 13,
   "id": "f0a3c1d6",
   "metadata": {
    "scrolled": true
   },
   "outputs": [
    {
     "data": {
      "text/html": [
       "<div>\n",
       "<style scoped>\n",
       "    .dataframe tbody tr th:only-of-type {\n",
       "        vertical-align: middle;\n",
       "    }\n",
       "\n",
       "    .dataframe tbody tr th {\n",
       "        vertical-align: top;\n",
       "    }\n",
       "\n",
       "    .dataframe thead th {\n",
       "        text-align: right;\n",
       "    }\n",
       "</style>\n",
       "<table border=\"1\" class=\"dataframe\">\n",
       "  <thead>\n",
       "    <tr style=\"text-align: right;\">\n",
       "      <th></th>\n",
       "      <th>first_name</th>\n",
       "      <th>last_name</th>\n",
       "      <th>birth_year</th>\n",
       "      <th>voted</th>\n",
       "      <th>num_children</th>\n",
       "      <th>income_year</th>\n",
       "      <th>higher_tax</th>\n",
       "      <th>marital_status_divorced</th>\n",
       "      <th>marital_status_married</th>\n",
       "      <th>marital_status_single</th>\n",
       "      <th>marital_status_widowed</th>\n",
       "      <th>age</th>\n",
       "      <th>age_group</th>\n",
       "    </tr>\n",
       "  </thead>\n",
       "  <tbody>\n",
       "    <tr>\n",
       "      <th>0</th>\n",
       "      <td>Denise</td>\n",
       "      <td>Ratke</td>\n",
       "      <td>2005</td>\n",
       "      <td>False</td>\n",
       "      <td>0</td>\n",
       "      <td>92129.41</td>\n",
       "      <td>1</td>\n",
       "      <td>0</td>\n",
       "      <td>0</td>\n",
       "      <td>1</td>\n",
       "      <td>0</td>\n",
       "      <td>17</td>\n",
       "      <td>(15, 20]</td>\n",
       "    </tr>\n",
       "    <tr>\n",
       "      <th>1</th>\n",
       "      <td>Hali</td>\n",
       "      <td>Cummerata</td>\n",
       "      <td>1987</td>\n",
       "      <td>False</td>\n",
       "      <td>0</td>\n",
       "      <td>75649.17</td>\n",
       "      <td>2</td>\n",
       "      <td>1</td>\n",
       "      <td>0</td>\n",
       "      <td>0</td>\n",
       "      <td>0</td>\n",
       "      <td>35</td>\n",
       "      <td>(30, 35]</td>\n",
       "    </tr>\n",
       "    <tr>\n",
       "      <th>2</th>\n",
       "      <td>Salomon</td>\n",
       "      <td>Orn</td>\n",
       "      <td>1992</td>\n",
       "      <td>True</td>\n",
       "      <td>2</td>\n",
       "      <td>166313.45</td>\n",
       "      <td>3</td>\n",
       "      <td>0</td>\n",
       "      <td>0</td>\n",
       "      <td>1</td>\n",
       "      <td>0</td>\n",
       "      <td>30</td>\n",
       "      <td>(25, 30]</td>\n",
       "    </tr>\n",
       "    <tr>\n",
       "      <th>3</th>\n",
       "      <td>Sarina</td>\n",
       "      <td>Schiller</td>\n",
       "      <td>1965</td>\n",
       "      <td>False</td>\n",
       "      <td>2</td>\n",
       "      <td>71704.81</td>\n",
       "      <td>4</td>\n",
       "      <td>0</td>\n",
       "      <td>1</td>\n",
       "      <td>0</td>\n",
       "      <td>0</td>\n",
       "      <td>57</td>\n",
       "      <td>(55, 60]</td>\n",
       "    </tr>\n",
       "    <tr>\n",
       "      <th>4</th>\n",
       "      <td>Gust</td>\n",
       "      <td>Abernathy</td>\n",
       "      <td>1945</td>\n",
       "      <td>False</td>\n",
       "      <td>2</td>\n",
       "      <td>143316.08</td>\n",
       "      <td>3</td>\n",
       "      <td>0</td>\n",
       "      <td>1</td>\n",
       "      <td>0</td>\n",
       "      <td>0</td>\n",
       "      <td>77</td>\n",
       "      <td>(75, 80]</td>\n",
       "    </tr>\n",
       "  </tbody>\n",
       "</table>\n",
       "</div>"
      ],
      "text/plain": [
       "  first_name  last_name  birth_year  voted  num_children  income_year  \\\n",
       "0     Denise      Ratke        2005  False             0     92129.41   \n",
       "1       Hali  Cummerata        1987  False             0     75649.17   \n",
       "2    Salomon        Orn        1992   True             2    166313.45   \n",
       "3     Sarina   Schiller        1965  False             2     71704.81   \n",
       "4       Gust  Abernathy        1945  False             2    143316.08   \n",
       "\n",
       "   higher_tax  marital_status_divorced  marital_status_married  \\\n",
       "0           1                        0                       0   \n",
       "1           2                        1                       0   \n",
       "2           3                        0                       0   \n",
       "3           4                        0                       1   \n",
       "4           3                        0                       1   \n",
       "\n",
       "   marital_status_single  marital_status_widowed  age age_group  \n",
       "0                      1                       0   17  (15, 20]  \n",
       "1                      0                       0   35  (30, 35]  \n",
       "2                      1                       0   30  (25, 30]  \n",
       "3                      0                       0   57  (55, 60]  \n",
       "4                      0                       0   77  (75, 80]  "
      ]
     },
     "execution_count": 13,
     "metadata": {},
     "output_type": "execute_result"
    }
   ],
   "source": [
    "census.head()"
   ]
  },
  {
   "cell_type": "code",
   "execution_count": 14,
   "id": "90b8fb8b",
   "metadata": {},
   "outputs": [
    {
     "data": {
      "text/html": [
       "<div>\n",
       "<style scoped>\n",
       "    .dataframe tbody tr th:only-of-type {\n",
       "        vertical-align: middle;\n",
       "    }\n",
       "\n",
       "    .dataframe tbody tr th {\n",
       "        vertical-align: top;\n",
       "    }\n",
       "\n",
       "    .dataframe thead th {\n",
       "        text-align: right;\n",
       "    }\n",
       "</style>\n",
       "<table border=\"1\" class=\"dataframe\">\n",
       "  <thead>\n",
       "    <tr style=\"text-align: right;\">\n",
       "      <th></th>\n",
       "      <th>first_name</th>\n",
       "      <th>last_name</th>\n",
       "      <th>birth_year</th>\n",
       "      <th>voted</th>\n",
       "      <th>num_children</th>\n",
       "      <th>income_year</th>\n",
       "      <th>higher_tax</th>\n",
       "      <th>marital_status_divorced</th>\n",
       "      <th>marital_status_married</th>\n",
       "      <th>marital_status_single</th>\n",
       "      <th>marital_status_widowed</th>\n",
       "      <th>age</th>\n",
       "      <th>age_group</th>\n",
       "      <th>ml_group</th>\n",
       "    </tr>\n",
       "  </thead>\n",
       "  <tbody>\n",
       "    <tr>\n",
       "      <th>0</th>\n",
       "      <td>Denise</td>\n",
       "      <td>Ratke</td>\n",
       "      <td>2005</td>\n",
       "      <td>False</td>\n",
       "      <td>0</td>\n",
       "      <td>92129.41</td>\n",
       "      <td>1</td>\n",
       "      <td>0</td>\n",
       "      <td>0</td>\n",
       "      <td>1</td>\n",
       "      <td>0</td>\n",
       "      <td>17</td>\n",
       "      <td>(15, 20]</td>\n",
       "      <td>1</td>\n",
       "    </tr>\n",
       "    <tr>\n",
       "      <th>1</th>\n",
       "      <td>Hali</td>\n",
       "      <td>Cummerata</td>\n",
       "      <td>1987</td>\n",
       "      <td>False</td>\n",
       "      <td>0</td>\n",
       "      <td>75649.17</td>\n",
       "      <td>2</td>\n",
       "      <td>1</td>\n",
       "      <td>0</td>\n",
       "      <td>0</td>\n",
       "      <td>0</td>\n",
       "      <td>35</td>\n",
       "      <td>(30, 35]</td>\n",
       "      <td>4</td>\n",
       "    </tr>\n",
       "    <tr>\n",
       "      <th>2</th>\n",
       "      <td>Salomon</td>\n",
       "      <td>Orn</td>\n",
       "      <td>1992</td>\n",
       "      <td>True</td>\n",
       "      <td>2</td>\n",
       "      <td>166313.45</td>\n",
       "      <td>3</td>\n",
       "      <td>0</td>\n",
       "      <td>0</td>\n",
       "      <td>1</td>\n",
       "      <td>0</td>\n",
       "      <td>30</td>\n",
       "      <td>(25, 30]</td>\n",
       "      <td>3</td>\n",
       "    </tr>\n",
       "    <tr>\n",
       "      <th>3</th>\n",
       "      <td>Sarina</td>\n",
       "      <td>Schiller</td>\n",
       "      <td>1965</td>\n",
       "      <td>False</td>\n",
       "      <td>2</td>\n",
       "      <td>71704.81</td>\n",
       "      <td>4</td>\n",
       "      <td>0</td>\n",
       "      <td>1</td>\n",
       "      <td>0</td>\n",
       "      <td>0</td>\n",
       "      <td>57</td>\n",
       "      <td>(55, 60]</td>\n",
       "      <td>9</td>\n",
       "    </tr>\n",
       "    <tr>\n",
       "      <th>4</th>\n",
       "      <td>Gust</td>\n",
       "      <td>Abernathy</td>\n",
       "      <td>1945</td>\n",
       "      <td>False</td>\n",
       "      <td>2</td>\n",
       "      <td>143316.08</td>\n",
       "      <td>3</td>\n",
       "      <td>0</td>\n",
       "      <td>1</td>\n",
       "      <td>0</td>\n",
       "      <td>0</td>\n",
       "      <td>77</td>\n",
       "      <td>(75, 80]</td>\n",
       "      <td>13</td>\n",
       "    </tr>\n",
       "  </tbody>\n",
       "</table>\n",
       "</div>"
      ],
      "text/plain": [
       "  first_name  last_name  birth_year  voted  num_children  income_year  \\\n",
       "0     Denise      Ratke        2005  False             0     92129.41   \n",
       "1       Hali  Cummerata        1987  False             0     75649.17   \n",
       "2    Salomon        Orn        1992   True             2    166313.45   \n",
       "3     Sarina   Schiller        1965  False             2     71704.81   \n",
       "4       Gust  Abernathy        1945  False             2    143316.08   \n",
       "\n",
       "   higher_tax  marital_status_divorced  marital_status_married  \\\n",
       "0           1                        0                       0   \n",
       "1           2                        1                       0   \n",
       "2           3                        0                       0   \n",
       "3           4                        0                       1   \n",
       "4           3                        0                       1   \n",
       "\n",
       "   marital_status_single  marital_status_widowed  age age_group  ml_group  \n",
       "0                      1                       0   17  (15, 20]         1  \n",
       "1                      0                       0   35  (30, 35]         4  \n",
       "2                      1                       0   30  (25, 30]         3  \n",
       "3                      0                       0   57  (55, 60]         9  \n",
       "4                      0                       0   77  (75, 80]        13  "
      ]
     },
     "execution_count": 14,
     "metadata": {},
     "output_type": "execute_result"
    }
   ],
   "source": [
    "census['ml_group'] = census['age_group'].cat.codes\n",
    "census.head()"
   ]
  }
 ],
 "metadata": {
  "kernelspec": {
   "display_name": "Python 3 (ipykernel)",
   "language": "python",
   "name": "python3"
  },
  "language_info": {
   "codemirror_mode": {
    "name": "ipython",
    "version": 3
   },
   "file_extension": ".py",
   "mimetype": "text/x-python",
   "name": "python",
   "nbconvert_exporter": "python",
   "pygments_lexer": "ipython3",
   "version": "3.9.7"
  }
 },
 "nbformat": 4,
 "nbformat_minor": 5
}
